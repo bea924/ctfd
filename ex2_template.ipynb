{
 "cells": [
  {
   "cell_type": "markdown",
   "metadata": {},
   "source": [
    "# Computational Thermofluid Dynamics - Chapter 2\n",
    "\n",
    "Technical University of Munich, Professur für Thermofluiddynamik - Pr. Polifke\n",
    "\n",
    "Created: 04/2024 | J. Yao, N. Garcia, G. Varillon\n",
    "\n",
    "==============================================================================================\n",
    "\n",
    "# Finite Differences\n",
    "The 2D steady heat equation reads:\n",
    "$$\n",
    "\\frac{\\partial}{\\partial x}(\\lambda\\frac{\\partial T}{\\partial x}) + \\frac{\\partial}{\\partial y}(\\lambda\\frac{\\partial T}{\\partial y}) = 0\n",
    "$$"
   ]
  },
  {
   "cell_type": "code",
   "execution_count": 24,
   "metadata": {},
   "outputs": [],
   "source": [
    "import numpy as np\n",
    "import pandas as pd\n",
    "import matplotlib.pyplot as plt"
   ]
  },
  {
   "cell_type": "code",
   "execution_count": 25,
   "metadata": {},
   "outputs": [],
   "source": [
    "class SteadyHeat2D:\n",
    "    def __init__(self, Lx, Ly, dimX, dimY):\n",
    "        self.l = Lx\n",
    "        self.h = Ly\n",
    "        self.dimX = dimX\n",
    "        self.dimY = dimY\n",
    "\n",
    "        # Add features for a source\n",
    "\n",
    "        # Initialize these values\n",
    "        self.dx = Lx/self.dimX\n",
    "        self.dy = Ly/self.dimY\n",
    "\n",
    "        # initialize A and b as empty matrices to then fill them later on using the given formulation\n",
    "        self.A = np.zeros([self.dimX*self.dimY, self.dimX*self.dimY])\n",
    "        self.set_inner()\n",
    "        self.b = np.zeros([self.dimX*self.dimY])\n",
    "        \n",
    "\n",
    "    # build the linear system\n",
    "    def set_inner(self):\n",
    "        inv_dx = 1.0 / (self.dx * self.dx)\n",
    "        inv_dy = 1.0 / (self.dy * self.dy)\n",
    "        \n",
    "        for i in range(self.dimX+1, (self.dimX*self.dimY)-self.dimX-1, self.dimX):\n",
    "            for j in range(self.dimX-2):\n",
    "                k = i+j\n",
    "                self.A[k][k - self.dimX] = inv_dy\n",
    "                self.A[k][k-1] = inv_dx\n",
    "                self.A[k][k] = -2.0 * (inv_dx + inv_dy)\n",
    "                self.A[k][k + self.dimX] = inv_dy\n",
    "                self.A[k][k+1] = inv_dx\n",
    "\n",
    "    # set the boundary conditions\n",
    "    # west: Derichlet\n",
    "    def set_west(self, bc_type, T_d = 0.0, q = 0.0, alpha = 0.0, T_inf = 0.0):\n",
    "        index = range(0, self.dimX*self.dimY, self.dimX) \n",
    "        for i in index:\n",
    "            self.A[i][i] = 1.0\n",
    "        \n",
    "        self.b[index] = T_d\n",
    "        \n",
    "\n",
    "    # north and east: Robin\n",
    "    def set_n_e(self, bc_type, T_d = 0.0, q = 0.0, alpha = 0.0, T_inf = 0.0):\n",
    "        index = range(1, self.dimX, 1) \n",
    "        for i in index:\n",
    "            self.A[i][i] = alpha + 3/(2*self.dy)\n",
    "            self.A[i][i + self.dimX] = - 2/self.dy\n",
    "            self.A[i][i + 2*self.dimX] = 1/(2*self.dy)\n",
    "        \n",
    "        self.b[index] = alpha*T_inf\n",
    "\n",
    "        index1 = range(2*self.dimX-1, self.dimX*self.dimY - self.dimX, self.dimX)\n",
    "        for i in index1:\n",
    "            self.A[i][i] = alpha + 3.0/(2*self.dx)\n",
    "            self.A[i][i-1] = - 2.0/self.dx\n",
    "            self.A[i][i-2] = 1/(2.0*self.dx)\n",
    "\n",
    "        self.b[index1] = alpha*T_inf\n",
    "        \n",
    "\n",
    "    def set_south(self, bc_type, T_d = 0.0, q = 0.0, alpha = 0.0, T_inf = 0.0):\n",
    "        index = range((self.dimX*self.dimY)-self.dimX+1, self.dimX*self.dimY,1)\n",
    "        for i in index:\n",
    "            self.A[i][i] = 3/(2*self.dy)\n",
    "            self.A[i][i - self.dimX] = -2/self.dy\n",
    "            self.A[i][i - 2*self.dimX] = 1/(2*self.dy)\n",
    "\n",
    "        self.b[index] = q\n",
    "    \n",
    "    # # # solve the linear system\n",
    "    def solve(self, A, b):\n",
    "        T = np.linalg.solve(A, b)\n",
    "        T_matrix = T.reshape(self.dimX, self.dimY)\n",
    "        T_matrix = pd.DataFrame(T_matrix)\n",
    "        # print(T_matrix)\n",
    "        plt.imshow(T_matrix, cmap='hot', interpolation='nearest')\n",
    "        plt.colorbar(label='Temperature')\n",
    "        plt.title('Temperature Distribution')\n",
    "        plt.xlabel('X')\n",
    "        plt.ylabel('Y')\n",
    "        plt.show()"
   ]
  },
  {
   "cell_type": "code",
   "execution_count": 26,
   "metadata": {},
   "outputs": [
    {
     "name": "stdout",
     "output_type": "stream",
     "text": [
      " \n"
     ]
    },
    {
     "data": {
      "image/png": "[encoded data removed]",
      "text/plain": [
       "<Figure size 640x480 with 2 Axes>"
      ]
     },
     "metadata": {},
     "output_type": "display_data"
    }
   ],
   "source": [
    "# Test\n",
    "Lx = 1\n",
    "Ly = 1\n",
    "dimX = 100\n",
    "dimY = 100\n",
    "bc_type_west = \"Direchlet\"\n",
    "bc_type_n_e = \"Robin\"\n",
    "bc_type_south = \"Neumann\"\n",
    "\n",
    "heat = SteadyHeat2D(Lx, Ly, dimX, dimY)\n",
    "heat.set_west(bc_type_west, T_d = 30.0)\n",
    "heat.set_n_e(bc_type_n_e, alpha = 0.5, T_inf = 17.0)\n",
    "heat.set_south(bc_type_south, q = 100)\n",
    "\n",
    "\n",
    "c = pd.DataFrame(heat.A)\n",
    "pd.set_option('display.max_rows', None)  # Show all rows\n",
    "pd.set_option('display.max_columns', None)  # Show all columns\n",
    "pd.set_option('display.width', 100)  # Prevent line wrapping\n",
    "# print(c)\n",
    "\n",
    "print(\" \")\n",
    "b = pd.DataFrame(heat.b)\n",
    "# print(b)\n",
    "\n",
    "T = heat.solve(heat.A,heat.b)"
   ]
  },
  {
   "cell_type": "code",
   "execution_count": null,
   "metadata": {},
   "outputs": [],
   "source": []
  }
 ],
 "metadata": {
  "kernelspec": {
   "display_name": "Python 3 (ipykernel)",
   "language": "python",
   "name": "python3"
  },
  "language_info": {
   "codemirror_mode": {
    "name": "ipython",
    "version": 3
   },
   "file_extension": ".py",
   "mimetype": "text/x-python",
   "name": "python",
   "nbconvert_exporter": "python",
   "pygments_lexer": "ipython3",
   "version": "3.11.7"
  }
 },
 "nbformat": 4,
 "nbformat_minor": 4
}
