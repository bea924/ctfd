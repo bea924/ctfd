{
 "cells": [
  {
   "cell_type": "markdown",
   "metadata": {},
   "source": [
    "# Computational Thermofluid Dynamics - Chapter 2\n",
    "\n",
    "Technical University of Munich, Professur für Thermofluiddynamik - Pr. Polifke\n",
    "\n",
    "Created: 04/2024 | J. Yao, N. Garcia, G. Varillon\n",
    "\n",
    "==============================================================================================\n",
    "\n",
    "# Finite Differences\n",
    "The 2D steady heat equation reads:\n",
    "$$\n",
    "\\frac{\\partial}{\\partial x}(\\lambda\\frac{\\partial T}{\\partial x}) + \\frac{\\partial}{\\partial y}(\\lambda\\frac{\\partial T}{\\partial y}) = 0\n",
    "$$"
   ]
  },
  {
   "cell_type": "code",
   "execution_count": 1,
   "metadata": {},
   "outputs": [],
   "source": [
    "import numpy as np"
   ]
  },
  {
   "cell_type": "code",
   "execution_count": 2,
   "metadata": {},
   "outputs": [],
   "source": [
    "class SteadyHeat2D:\n",
    "    def __init__(self, Lx, Ly, dimX, dimY):\n",
    "        self.l = Lx #lunghezza rettangolo\n",
    "        self.h = Ly\n",
    "        self.dimX = dimX #quante divisioni\n",
    "        self.dimY = dimY\n",
    "\n",
    "        self.dx = Lx/dimX\n",
    "        self.dy = Ly/dimY\n",
    "\n",
    "        self.A = np.identity(self.dimX*self.dimY)\n",
    "        self.set_inner()\n",
    "        self.b = np.zeros([self.dimX*self.dimY])\n",
    "        \n",
    "    \n",
    "    # build the linear system\n",
    "    def set_inner(self):\n",
    "        for i in range(self.dimX+1, (self.dimX*self.dimY)-self.dimX-1, self.dimX): # the start of each row of inner nodes \n",
    "            for j in range(self.dimX-2): # loops through all inner nodes in that row \n",
    "                k = i+j\n",
    "                # builds the matrix like in scicomplab, so each row\n",
    "                self.A[k][k] = -2 * (1/(self.dx*self.dx) + 1/(self.dy*self.dy)) # central node\n",
    "                self.A[k][k-1] = 1/(self.dx*self.dx) # side nodes\n",
    "                self.A[k][k+1] = 1/(self.dx*self.dx)\n",
    "                self.A[k][k - self.dimX] = 1/(self.dy*self.dy) # upper lower nodes\n",
    "                self.A[k][k + self.dimX] = 1/(self.dy*self.dy)\n",
    "\n",
    "    # south\n",
    "    def set_south(self, bc_type, T_d=0.0, q=0.0, alpha = 0.0, T_inf=0.0):\n",
    "        if (bc_type==\"d\"):\n",
    "            try: \n",
    "                self.b[-self.dimX:] = T_d\n",
    "                for i in range(self.dimX):\n",
    "                    ii = (self.dimX*self.dimY) - i - 1\n",
    "                    self.A[ii][ii] = 1\n",
    "            except:\n",
    "                print(\"no T_d value for source boundary type\")\n",
    "        elif (bc_type==\"n\"):\n",
    "            try:\n",
    "                for i in range(self.dimX):\n",
    "                    ii = (self.dimX*self.dimY)-i-1\n",
    "                    self.b[ii] = q\n",
    "                    self.A[ii][ii] = -4/(2*self.dimY)\n",
    "                    self.A[ii][ii-self.dimX] = 3/(2*self.dimY)\n",
    "                    self.A[ii][ii-(2*self.dimX)] = 1/(2*self.dimY)\n",
    "            except:\n",
    "                print(\"no q value for flux boundary type\")\n",
    "        elif (bc_type==\"r\"):\n",
    "            try:\n",
    "                for i in range(self.dimX):\n",
    "                    ii = (self.dimX*self.dimY)-i-1\n",
    "                    self.b[ii] = alpha * T_inf\n",
    "                    self.A[ii][ii] = alpha + 3/(2*self.dimY)\n",
    "                    self.A[ii][ii-self.dimX] = -4/(2*self.dimY)\n",
    "                    self.A[ii][ii-(2*self.dimX)] = 1/(2*self.dimY)\n",
    "            except:\n",
    "                print(\"no alpha or T_inf value for conjugate boundary type\")\n",
    "        else:\n",
    "            raise TypeError(\"Unknown boundary condition: {0:s}\".format(bc_type))\n",
    "\n",
    "\n",
    "    # north\n",
    "    def set_north(self, bc_type, T_d=0.0, q=0.0, alpha = 0.0, T_inf=0.0):\n",
    "        if (bc_type==\"d\"):\n",
    "            try: \n",
    "                self.b[:self.dimX] = T_d\n",
    "                for i in range(self.dimX):\n",
    "                    ii = (self.dimX*self.dimY) - i - 1\n",
    "                    self.A[ii][ii] = 1\n",
    "            except:\n",
    "                print(\"no T_d value for source boundary type\")\n",
    "        elif (bc_type==\"n\"):\n",
    "            try:\n",
    "                for i in range(self.dimX):\n",
    "                    ii = i\n",
    "                    self.b[ii] = q\n",
    "                    self.A[ii][ii] = -4/(2*self.dimY)\n",
    "                    self.A[ii][ii+self.dimX] = 3/(2*self.dimY)\n",
    "                    self.A[ii][ii+(2*self.dimX)] = 1/(2*self.dimY)\n",
    "            except:\n",
    "                print(\"no q value for flux boundary type\")\n",
    "        elif (bc_type==\"r\"):\n",
    "            try:\n",
    "                for i in range(self.dimX):\n",
    "                    ii = i\n",
    "                    self.b[ii] = alpha * T_inf\n",
    "                    self.A[ii][ii] = alpha + 3/(2*self.dimY)\n",
    "                    self.A[ii][ii+self.dimX] = -4/(2*self.dimY)\n",
    "                    self.A[ii][ii+(2*self.dimX)] = 1/(2*self.dimY)\n",
    "            except:\n",
    "                print(\"no alpha or T_inf value for conjugate boundary type\")\n",
    "        else:\n",
    "            raise TypeError(\"Unknown boundary condition: {0:s}\".format(bc_type))\n",
    "\n",
    "\n",
    "    # west\n",
    "    def set_west(self, bc_type, T_d=0.0, q=0.0, alpha = 0.0, T_inf=0.0):\n",
    "        if (bc_type==\"d\"):\n",
    "            try: \n",
    "                for i in range(self.dimY):\n",
    "                    ii = i * self.dimX\n",
    "                    self.b[ii] = T_d\n",
    "                    self.A[ii][ii] = 1\n",
    "            except:\n",
    "                print(\"no T_d value for source boundary type\")\n",
    "        elif (bc_type==\"n\"):\n",
    "            try:\n",
    "                for i in range(self.dimY):\n",
    "                    ii = i * self.dimX\n",
    "                    self.b[ii] = q\n",
    "                    self.A[ii][ii] = -4/(2*self.dimX)\n",
    "                    self.A[ii][ii+1] = 3/(2*self.dimX)\n",
    "                    self.A[ii][ii+2] = 1/(2*self.dimX)\n",
    "            except:\n",
    "                print(\"no q value for flux boundary type\")\n",
    "        elif (bc_type==\"r\"):\n",
    "            try:\n",
    "                for i in range(self.dimY):\n",
    "                    ii = i * self.dimX\n",
    "                    self.b[ii] = alpha * T_inf\n",
    "                    self.A[ii][ii] = alpha + 3/(2*self.dimY)\n",
    "                    self.A[ii][ii+1] = -4/(2*self.dimY)\n",
    "                    self.A[ii][ii+2] = 1/(2*self.dimY)\n",
    "            except:\n",
    "                print(\"no alpha or T_inf value for conjugate boundary type\")\n",
    "        else:\n",
    "            raise TypeError(\"Unknown boundary condition: {0:s}\".format(bc_type))\n",
    "\n",
    "\n",
    "# east\n",
    "    def set_east(self, bc_type, T_d=0.0, q=0.0, alpha = 0.0, T_inf=0.0):\n",
    "        if (bc_type==\"d\"):\n",
    "            try: \n",
    "                for i in range(self.dimY):\n",
    "                    ii = i * self.dimX + self.dimX -1\n",
    "                    self.b[ii] = T_d\n",
    "                    self.A[ii][ii] = 1\n",
    "            except:\n",
    "                print(\"no T_d value for source boundary type\")\n",
    "        elif (bc_type==\"n\"):\n",
    "            try:\n",
    "                for i in range(self.dimY):\n",
    "                    ii = i * self.dimX + self.dimX -1\n",
    "                    self.b[ii] = q\n",
    "                    self.A[ii][ii] = -4/(2*self.dimX)\n",
    "                    self.A[ii][ii-1] = 3/(2*self.dimX)\n",
    "                    self.A[ii][ii-2] = 1/(2*self.dimX)\n",
    "            except:\n",
    "                print(\"no q value for flux boundary type\")\n",
    "        elif (bc_type==\"r\"):\n",
    "            try:\n",
    "                for i in range(self.dimY):\n",
    "                    ii = i * self.dimX + self.dimX -1\n",
    "                    self.b[ii] = alpha * T_inf\n",
    "                    self.A[ii][ii] = alpha + 3/(2*self.dimY)\n",
    "                    self.A[ii][ii-1] = -4/(2*self.dimY)\n",
    "                    self.A[ii][ii-2] = 1/(2*self.dimY)\n",
    "            except:\n",
    "                print(\"no alpha or T_inf value for conjugate boundary type\")\n",
    "        else:\n",
    "            raise TypeError(\"Unknown boundary condition: {0:s}\".format(bc_type))\n",
    "       \n",
    "       \n",
    "\n",
    "    # solve the linear system\n",
    "    def solve(self):\n",
    "        return np.linalg.solve(self.A, self.b)\n"
   ]
  },
  {
   "cell_type": "code",
   "execution_count": 3,
   "metadata": {},
   "outputs": [
    {
     "data": {
      "text/plain": [
       "array([[5.  , 5.  , 5.  , ..., 5.  , 5.  , 5.15],\n",
       "       [5.  , 5.  , 5.  , ..., 5.  , 5.  , 5.  ],\n",
       "       [5.  , 5.  , 5.  , ..., 5.  , 5.  , 5.  ],\n",
       "       ...,\n",
       "       [5.  , 5.  , 5.  , ..., 5.  , 5.  , 5.  ],\n",
       "       [5.  , 5.  , 5.  , ..., 5.  , 5.  , 5.  ],\n",
       "       [5.  , 5.  , 5.  , ..., 5.  , 5.  , 5.  ]])"
      ]
     },
     "execution_count": 3,
     "metadata": {},
     "output_type": "execute_result"
    }
   ],
   "source": [
    "# Test\n",
    "Lx = 1\n",
    "Ly = 1\n",
    "dimX = 50\n",
    "dimY = 50\n",
    "bc_type = \"n\"\n",
    "\n",
    "heat = SteadyHeat2D(Lx, Ly, dimX, dimY)\n",
    "\n",
    "heat.set_south(\"d\", T_d=5)\n",
    "heat.set_west(\"d\", T_d=5)\n",
    "heat.set_north(\"r\", q=10)\n",
    "heat.set_east(\"d\", T_d=5)\n",
    "\n",
    "# heat.set_north(\"d\", T_d=0)A\n",
    "# heat.set_south(\"d\", T_d=0)\n",
    "# heat.set_east(\"d\", T_d=0)\n",
    "# heat.set_west(\"d\", T_d=0)\n",
    "\n",
    "\n",
    "T = heat.solve()\n",
    "T.reshape((dimX, dimY))"
   ]
  },
  {
   "cell_type": "code",
   "execution_count": 4,
   "metadata": {},
   "outputs": [
    {
     "data": {
      "image/png": "[encoded data removed]",
      "text/plain": [
       "<Figure size 640x480 with 2 Axes>"
      ]
     },
     "metadata": {},
     "output_type": "display_data"
    }
   ],
   "source": [
    "import matplotlib.pyplot as plt\n",
    "\n",
    "matrix = T.reshape((dimX, dimY))\n",
    "plt.imshow(matrix, cmap='magma')\n",
    "plt.colorbar()\n",
    "plt.show()"
   ]
  },
  {
   "cell_type": "code",
   "execution_count": 5,
   "metadata": {},
   "outputs": [
    {
     "name": "stderr",
     "output_type": "stream",
     "text": [
      "/tmp/ipykernel_2447/4162061270.py:10: SparseEfficiencyWarning: spsolve requires A be CSC or CSR matrix format\n",
      "  x = spsolve(A, b)\n"
     ]
    }
   ],
   "source": [
    "from scipy.sparse import dia_matrix, dia_array\n",
    "from scipy.sparse.linalg import spsolve\n",
    "\n",
    "data = np.ones([2, 5])\n",
    "# ldiag = np.ones([5])\n",
    "offsets = np.array([0, -1])\n",
    "\n",
    "A = dia_matrix((data, offsets), shape=(5, 5))\n",
    "b = np.ones(5)\n",
    "x = spsolve(A, b)"
   ]
  },
  {
   "cell_type": "code",
   "execution_count": 6,
   "metadata": {},
   "outputs": [
    {
     "data": {
      "text/plain": [
       "array([1., 0., 1., 0., 1.])"
      ]
     },
     "execution_count": 6,
     "metadata": {},
     "output_type": "execute_result"
    }
   ],
   "source": [
    "x"
   ]
  },
  {
   "cell_type": "code",
   "execution_count": null,
   "metadata": {},
   "outputs": [],
   "source": []
  }
 ],
 "metadata": {
  "kernelspec": {
   "display_name": "Python 3",
   "language": "python",
   "name": "python3"
  },
  "language_info": {
   "codemirror_mode": {
    "name": "ipython",
    "version": 3
   },
   "file_extension": ".py",
   "mimetype": "text/x-python",
   "name": "python",
   "nbconvert_exporter": "python",
   "pygments_lexer": "ipython3",
   "version": "3.12.3"
  }
 },
 "nbformat": 4,
 "nbformat_minor": 4
}
