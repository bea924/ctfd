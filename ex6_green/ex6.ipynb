{
 "cells": [
  {
   "cell_type": "code",
   "execution_count": 26,
   "metadata": {},
   "outputs": [],
   "source": [
    "import numpy as np"
   ]
  },
  {
   "cell_type": "code",
   "execution_count": 27,
   "metadata": {},
   "outputs": [],
   "source": [
    "def GF_table(bc_left: str, bc_right: str, L, truncation):\n",
    "    # returns the eigenvalue beta_m and the norm Nx\n",
    "\n",
    "    m = np.arange(1, truncation+1)\n",
    "    if (bc_left == 'D' and bc_right == 'D'): #11\n",
    "        beta_m = m*np.pi/L\n",
    "        # X_m = np.sin(beta_m*x)\n",
    "        Nx = L/2\n",
    "        return beta_m, Nx\n",
    "    \n",
    "    if (bc_left == 'D' and bc_right == 'N'): #12\n",
    "        beta_m = (2*m-1)*np.pi/(2*L)\n",
    "        # X_m = np.sin(beta_m*x)\n",
    "        Nx = L/2\n",
    "        return beta_m, Nx\n",
    "    \n",
    "    if (bc_left == 'N' and bc_right == 'D'): #21\n",
    "        beta_m = (2*m-1)*np.pi/(2*L)\n",
    "        # X_m = np.sin(beta_m*x)\n",
    "        Nx = L/2\n",
    "        return beta_m, Nx\n",
    "    \n",
    "\n",
    "def GF_function(x, y, x_s, y_s, Lx, Ly, bc_e: str, bc_n: str, bc_w: str, bc_s: str, truncation = 50):\n",
    "    # x = np.arange(0, Lx, step)\n",
    "    # y = np.arange(0, Ly, step)\n",
    "    beta_m, Nx = GF_table(bc_e, bc_w, Lx, truncation)\n",
    "    theta_n, Ny = GF_table(bc_s, bc_n, Ly, truncation)\n",
    "    summation_array = np.zeros(truncation*truncation)\n",
    "    \n",
    "    for m in range(1, truncation+1):\n",
    "        i = m-1\n",
    "\n",
    "        X_m = np.sin(x*beta_m[i])\n",
    "        X_m_s = np.sin(x_s*beta_m[i])\n",
    "        # print(\"X_m_s: \" + str(X_m_s))\n",
    "        for n in range(1, truncation+1):\n",
    "            j= n-1\n",
    "\n",
    "            Y_n = np.sin(y*theta_n[j])\n",
    "            Y_n_s = np.sin(y_s*theta_n[j])\n",
    "            # print(\"X_m_s: \" + str(Y_n_s))\n",
    "\n",
    "            fraction = 1/((beta_m[i]*beta_m[i]) + (theta_n[j]*theta_n[j]))\n",
    "            X_mult = (X_m*X_m_s)/Nx\n",
    "            Y_mult = (Y_n*Y_n_s)/Ny\n",
    "            \n",
    "            summation_array[i*truncation + j] = fraction * X_mult * Y_mult\n",
    "    \n",
    "    sum = np.sum(summation_array)\n",
    "    return sum\n",
    "\n",
    "\n",
    "def return_GF_matrix(x, y, x_s_start, x_s_end, y_s_start, y_s_end, Lx, Ly, bc_e: str, bc_n: str, bc_w: str, bc_s: str, n_step_s = 20):\n",
    "    # returns GF as a function of x_s and y_s and for a specific x and y value\n",
    "    step_s_x = (x_s_end-x_s_start)/n_step_s\n",
    "    step_s_y = (y_s_end-y_s_start)/n_step_s\n",
    "\n",
    "    x_s = np.arange(x_s_start, x_s_end, step_s_x)\n",
    "    x_s[-1] = x_s_end # just to make sure we arrive to the border\n",
    "    y_s = np.arange(y_s_start, y_s_end, step_s_y)\n",
    "    y_s[-1] = y_s_end # just to make sure we arrive to the border\n",
    "\n",
    "    GF_matrix = np.zeros((n_step_s, n_step_s))\n",
    "\n",
    "    for i in range(n_step_s):\n",
    "        for j in range(n_step_s):\n",
    "            GF_matrix[i, j] = GF_function(x, y, x_s[i], y_s[j], Lx, Ly, bc_e=bc_e, bc_n=bc_n, bc_w=bc_w, bc_s=bc_s)\n",
    "\n",
    "    return GF_matrix"
   ]
  },
  {
   "cell_type": "code",
   "execution_count": 29,
   "metadata": {},
   "outputs": [
    {
     "data": {
      "text/plain": [
       "0.0001296981110708539"
      ]
     },
     "execution_count": 29,
     "metadata": {},
     "output_type": "execute_result"
    }
   ],
   "source": [
    "Lx = Ly = 1\n",
    "x_s = y_s = Lx/2\n",
    "n_step = 2\n",
    "step = 0.01 # limit might be after 0.01\n",
    "# np.linspace(0, L/2, n_step, endpoint=True, retstep=False, dtype=None, axis=0)\n",
    "# x_in = np.arange(0, L/2, step)\n",
    "# x_out = np.arange(0, L/2, step)\n",
    "# y_in = np.arange(0, L/2, step)\n",
    "# y_out = np.arange(0, L/2, step)\n",
    "x = np.arange(0, Lx, step)\n",
    "y = np.arange(0, Ly, step)\n",
    "\n",
    "GF_function(x[1], y[1], x_s, y_s, Lx, Ly, bc_e = \"D\", bc_n = \"D\", bc_w = \"D\", bc_s = \"D\")\n",
    "# green_function(x, y, x_s, y_s, L, bc_e: str, bc_n: str, bc_w: str, bc_s: str, truncation = 10):"
   ]
  },
  {
   "cell_type": "code",
   "execution_count": 32,
   "metadata": {},
   "outputs": [],
   "source": [
    "plot_GF = np.zeros((20, 20))\n",
    "x = np.arange(0, Lx, 0.05)\n",
    "y = np.arange(0, Ly, 0.05)\n",
    "for i in range(20):\n",
    "    for j in range(20):\n",
    "        plot_GF[i, j] = GF_function(x[i], y[j], x_s, y_s, Lx, Ly, bc_e = \"D\", bc_n = \"D\", bc_w = \"D\", bc_s = \"D\")\n",
    "        \n",
    "    "
   ]
  },
  {
   "cell_type": "code",
   "execution_count": 33,
   "metadata": {},
   "outputs": [
    {
     "data": {
      "image/png": "[encoded data removed]",
      "text/plain": [
       "<Figure size 640x480 with 2 Axes>"
      ]
     },
     "metadata": {},
     "output_type": "display_data"
    }
   ],
   "source": [
    "import matplotlib.pyplot as plt\n",
    "\n",
    "# Plot the heatmap\n",
    "plt.imshow(plot_GF, cmap='jet', interpolation='nearest')\n",
    "plt.colorbar()  # Add a color bar to show the color scale\n",
    "plt.title(\"Green's function for a central source\")\n",
    "plt.xlabel('Column Index')\n",
    "plt.ylabel('Row Index')\n",
    "plt.show()"
   ]
  },
  {
   "cell_type": "code",
   "execution_count": 17,
   "metadata": {},
   "outputs": [],
   "source": [
    "omega = 5\n",
    "lambda_v = 1\n",
    "Lx = Ly = 1\n",
    "n_step_s = 20\n",
    "\n",
    "x = 0.2\n",
    "y = 0.2\n",
    "\n",
    "step_s_x = Lx/n_step_s\n",
    "step_s_y = Ly/n_step_s\n",
    "x_s = np.arange(0, Lx, step_s_x)\n",
    "x_s[-1] = Lx # just to make sure we arrive to the border\n",
    "y_s = np.arange(0, Ly, step_s_y)\n",
    "y_s[-1] = Ly\n",
    "\n",
    "GF_s = return_GF_matrix(x, y, 0, Lx, 0, Ly, \"D\", \"D\", \"D\", \"D\")\n",
    "\n",
    "#integral over surface\n",
    "integral_GF_ys = np.trapz(GF_s*omega, y_s, axis=0) #over y\n",
    "integral_GF_ys_xs = np.trapz(integral_GF_ys, x_s) #over x\n",
    "\n"
   ]
  }
 ],
 "metadata": {
  "kernelspec": {
   "display_name": "fluid-env",
   "language": "python",
   "name": "python3"
  },
  "language_info": {
   "codemirror_mode": {
    "name": "ipython",
    "version": 3
   },
   "file_extension": ".py",
   "mimetype": "text/x-python",
   "name": "python",
   "nbconvert_exporter": "python",
   "pygments_lexer": "ipython3",
   "version": "3.11.9"
  }
 },
 "nbformat": 4,
 "nbformat_minor": 2
}
