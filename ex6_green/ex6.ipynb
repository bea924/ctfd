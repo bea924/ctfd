{
 "cells": [
  {
   "cell_type": "code",
   "execution_count": 1,
   "metadata": {},
   "outputs": [],
   "source": [
    "import numpy as np"
   ]
  },
  {
   "cell_type": "code",
   "execution_count": 70,
   "metadata": {},
   "outputs": [],
   "source": [
    "def GF_table(bc_left: str, bc_right: str, L, truncation):\n",
    "    # returns the eigenvalue beta_m and the norm Nx\n",
    "\n",
    "    m = np.arange(1, truncation+1)\n",
    "    if (bc_left == 'D' and bc_right == 'D'): #11\n",
    "        beta_m = m*np.pi/L\n",
    "        # X_m = np.sin(beta_m*x)\n",
    "        Nx = L/2\n",
    "        return beta_m, Nx\n",
    "    \n",
    "    if (bc_left == 'D' and bc_right == 'N'): #12\n",
    "        beta_m = (2*m-1)*np.pi/(2*L)\n",
    "        # X_m = np.sin(beta_m*x)\n",
    "        Nx = L/2\n",
    "        return beta_m, Nx\n",
    "    \n",
    "    if (bc_left == 'N' and bc_right == 'D'): #12\n",
    "        beta_m = (2*m-1)*np.pi/(2*L)\n",
    "        # X_m = np.sin(beta_m*x)\n",
    "        Nx = L/2\n",
    "        return beta_m, Nx\n",
    "    \n",
    "\n",
    "def green_function(x, y, x_s, y_s, Lx, Ly, bc_e: str, bc_n: str, bc_w: str, bc_s: str, truncation = 50):\n",
    "    # x = np.arange(0, Lx, step)\n",
    "    # y = np.arange(0, Ly, step)\n",
    "    beta_m, Nx = GF_table(bc_e, bc_w, Lx, truncation)\n",
    "    theta_n, Ny = GF_table(bc_s, bc_n, Ly, truncation)\n",
    "    summation_array = np.zeros(truncation*truncation)\n",
    "    \n",
    "    for m in range(1, truncation+1):\n",
    "        i = m-1\n",
    "\n",
    "        X_m = np.sin(x*beta_m[i])\n",
    "        X_m_s = np.sin(x_s*beta_m[i])\n",
    "        # print(\"X_m_s: \" + str(X_m_s))\n",
    "        for n in range(1, truncation+1):\n",
    "            j= n-1\n",
    "\n",
    "            Y_n = np.sin(y*theta_n[j])\n",
    "            Y_n_s = np.sin(y_s*theta_n[j])\n",
    "            # print(\"X_m_s: \" + str(Y_n_s))\n",
    "\n",
    "            fraction = 1/((beta_m[i]*beta_m[i]) + (theta_n[j]*theta_n[j]))\n",
    "            X_mult = (X_m*X_m_s)/Nx\n",
    "            Y_mult = (Y_n*Y_n_s)/Ny\n",
    "\n",
    "            # summation_array[i*truncation + j] = fraction * np.dot(X_mult, Y_mult)\n",
    "            summation_array[i*truncation + j] = fraction * X_mult * Y_mult\n",
    "    \n",
    "    sum = np.sum(summation_array)\n",
    "    # return sum\n",
    "    return sum"
   ]
  },
  {
   "cell_type": "code",
   "execution_count": 78,
   "metadata": {},
   "outputs": [
    {
     "data": {
      "text/plain": [
       "0.0001296981110708539"
      ]
     },
     "execution_count": 78,
     "metadata": {},
     "output_type": "execute_result"
    }
   ],
   "source": [
    "Lx = Ly = 1\n",
    "x_s = y_s = Lx/2\n",
    "n_step = 2\n",
    "step = 0.01 # limit might be after 0.01\n",
    "# np.linspace(0, L/2, n_step, endpoint=True, retstep=False, dtype=None, axis=0)\n",
    "# x_in = np.arange(0, L/2, step)\n",
    "# x_out = np.arange(0, L/2, step)\n",
    "# y_in = np.arange(0, L/2, step)\n",
    "# y_out = np.arange(0, L/2, step)\n",
    "x = np.arange(0, Lx, step)\n",
    "y = np.arange(0, Ly, step)\n",
    "\n",
    "green_function(x[1], y[1], x_s, y_s, Lx, Ly, bc_e = \"D\", bc_n = \"D\", bc_w = \"D\", bc_s = \"D\")\n",
    "# green_function(x, y, x_s, y_s, L, bc_e: str, bc_n: str, bc_w: str, bc_s: str, truncation = 10):"
   ]
  },
  {
   "cell_type": "code",
   "execution_count": null,
   "metadata": {},
   "outputs": [],
   "source": []
  }
 ],
 "metadata": {
  "kernelspec": {
   "display_name": "fluid-env",
   "language": "python",
   "name": "python3"
  },
  "language_info": {
   "codemirror_mode": {
    "name": "ipython",
    "version": 3
   },
   "file_extension": ".py",
   "mimetype": "text/x-python",
   "name": "python",
   "nbconvert_exporter": "python",
   "pygments_lexer": "ipython3",
   "version": "3.12.3"
  }
 },
 "nbformat": 4,
 "nbformat_minor": 2
}
