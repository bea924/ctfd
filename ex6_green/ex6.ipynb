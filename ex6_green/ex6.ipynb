{
 "cells": [
  {
   "cell_type": "code",
   "execution_count": 1,
   "metadata": {},
   "outputs": [],
   "source": [
    "import numpy as np"
   ]
  },
  {
   "cell_type": "code",
   "execution_count": 2,
   "metadata": {},
   "outputs": [
    {
     "name": "stdout",
     "output_type": "stream",
     "text": [
      "The integral of x from 0 to 2 is approximately 2.0\n"
     ]
    }
   ],
   "source": [
    "import numpy as np\n",
    "\n",
    "# Define the domain\n",
    "x = np.linspace(0, 2, 1000)  # 1000 points between 0 and 2\n",
    "\n",
    "# Define the function to be integrated\n",
    "y = x  # since we are integrating x\n",
    "\n",
    "# Perform the integration using the trapezoidal rule\n",
    "integral = np.trapz(y, x)\n",
    "\n",
    "print(f\"The integral of x from 0 to 2 is approximately {integral}\")\n"
   ]
  },
  {
   "cell_type": "code",
   "execution_count": 5,
   "metadata": {},
   "outputs": [
    {
     "name": "stdout",
     "output_type": "stream",
     "text": [
      "The double integral of xy over [0, 2] x [0, 3] is approximately 9.0\n"
     ]
    }
   ],
   "source": [
    "import numpy as np\n",
    "\n",
    "# Define the function to be integrated\n",
    "def f(x, y):\n",
    "    return x * y\n",
    "\n",
    "# Define the domain for x and y\n",
    "x = np.linspace(0, 2, 100)\n",
    "y = np.linspace(0, 3, 100)\n",
    "\n",
    "# Create a grid of points\n",
    "X, Y = np.meshgrid(x, y)\n",
    "\n",
    "# Evaluate the function on the grid\n",
    "Z = f(X, Y)\n",
    "\n",
    "# Perform the double integration using the trapezoidal rule\n",
    "# First, integrate with respect to y for each fixed x\n",
    "integral_y = np.trapz(Z, y, axis=0)\n",
    "\n",
    "# Then, integrate the result with respect to x\n",
    "integral = np.trapz(integral_y, x)\n",
    "\n",
    "print(f\"The double integral of xy over [0, 2] x [0, 3] is approximately {integral}\")\n"
   ]
  },
  {
   "cell_type": "code",
   "execution_count": null,
   "metadata": {},
   "outputs": [],
   "source": [
    "def GF_table(x, casex: str, casey: str, L):\n",
    "    # returns the eigenfunc(x) Xm, the eigenvalue betam and the norm Nx\n",
    "\n",
    "    m = np.arange(1, len(x))\n",
    "    if (casex == 'D' and casey == 'D'): #11\n",
    "        beta_m = m*np.pi/L\n",
    "        X_m = np.sin(beta_m*x)\n",
    "        Nx = L/2\n",
    "        return X_m, beta_m, Nx\n",
    "    \n",
    "    if (casex == 'D' and casey == 'N'): #12\n",
    "        beta_m = (2*m-1)*np.pi/(2*L)\n",
    "        X_m = np.sin(beta_m*x)\n",
    "        Nx = L/2\n",
    "        return\n",
    "    if (casex == 'D' and casey == 'D'): #13\n",
    "        return\n",
    "    \n",
    "\n",
    "def green_function(x, y, xs, ys, casex: str, casey: str):\n",
    "\n"
   ]
  },
  {
   "cell_type": "code",
   "execution_count": 14,
   "metadata": {},
   "outputs": [
    {
     "data": {
      "text/plain": [
       "array([ 1,  3,  5,  7,  9, 11, 13, 15, 17, 19])"
      ]
     },
     "execution_count": 14,
     "metadata": {},
     "output_type": "execute_result"
    }
   ],
   "source": [
    "x = np.arange(1, 20, 2)\n",
    "L=10\n",
    "x"
   ]
  },
  {
   "cell_type": "code",
   "execution_count": 15,
   "metadata": {},
   "outputs": [
    {
     "data": {
      "text/plain": [
       "array([ 1,  2,  3,  4,  5,  6,  7,  8,  9, 10])"
      ]
     },
     "execution_count": 15,
     "metadata": {},
     "output_type": "execute_result"
    }
   ],
   "source": [
    "m = np.arange(1, len(x)+1)\n",
    "m"
   ]
  },
  {
   "cell_type": "code",
   "execution_count": 16,
   "metadata": {},
   "outputs": [
    {
     "data": {
      "text/plain": [
       "array([0.31415927, 0.62831853, 0.9424778 , 1.25663706, 1.57079633,\n",
       "       1.88495559, 2.19911486, 2.51327412, 2.82743339, 3.14159265])"
      ]
     },
     "execution_count": 16,
     "metadata": {},
     "output_type": "execute_result"
    }
   ],
   "source": [
    "beta = m*np.pi/L\n",
    "beta"
   ]
  },
  {
   "cell_type": "code",
   "execution_count": 18,
   "metadata": {},
   "outputs": [
    {
     "data": {
      "text/plain": [
       "array([ 3.09016994e-01,  9.51056516e-01, -1.00000000e+00,  5.87785252e-01,\n",
       "        1.00000000e+00,  9.51056516e-01, -3.09016994e-01, -1.46957616e-15,\n",
       "       -8.09016994e-01,  5.87954260e-15])"
      ]
     },
     "execution_count": 18,
     "metadata": {},
     "output_type": "execute_result"
    }
   ],
   "source": [
    "X = np.sin(beta*x)\n",
    "X"
   ]
  },
  {
   "cell_type": "code",
   "execution_count": null,
   "metadata": {},
   "outputs": [],
   "source": []
  }
 ],
 "metadata": {
  "kernelspec": {
   "display_name": "fluid-env",
   "language": "python",
   "name": "python3"
  },
  "language_info": {
   "codemirror_mode": {
    "name": "ipython",
    "version": 3
   },
   "file_extension": ".py",
   "mimetype": "text/x-python",
   "name": "python",
   "nbconvert_exporter": "python",
   "pygments_lexer": "ipython3",
   "version": "3.12.3"
  }
 },
 "nbformat": 4,
 "nbformat_minor": 2
}
